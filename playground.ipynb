{
 "cells": [
  {
   "cell_type": "code",
   "execution_count": 1,
   "id": "377e187e",
   "metadata": {},
   "outputs": [],
   "source": [
    "import os\n",
    "import django\n",
    "os.environ.setdefault('DJANGO_SETTINGS_MODULE', 'rest.settings')\n",
    "os.environ[\"DJANGO_ALLOW_ASYNC_UNSAFE\"] = \"true\"\n",
    "django.setup()\n"
   ]
  },
  {
   "cell_type": "code",
   "execution_count": 2,
   "id": "cd67e7b1",
   "metadata": {},
   "outputs": [],
   "source": [
    "from apps.tasks.models import Task\n",
    "from django.db.models.functions import TruncDate\n",
    "from django.db.models import F\n"
   ]
  },
  {
   "cell_type": "code",
   "execution_count": 3,
   "id": "51a519e2",
   "metadata": {},
   "outputs": [],
   "source": [
    "tasks_per_day = Task.objects.annotate(\n",
    "    day=TruncDate('created_at')\n",
    ").values('day').distinct().order_by('-day')\n",
    "list(tasks_per_day)"
   ]
  }
 ],
 "metadata": {
  "kernelspec": {
   "display_name": "45_todo_app_api-34jiQWIh",
   "language": "python",
   "name": "python3"
  },
  "language_info": {
   "codemirror_mode": {
    "name": "ipython",
    "version": 3
   },
   "file_extension": ".py",
   "mimetype": "text/x-python",
   "name": "python",
   "nbconvert_exporter": "python",
   "pygments_lexer": "ipython3",
   "version": "3.10.6"
  },
  "vscode": {
   "interpreter": {
    "hash": "7b11284f9e65547bd34002c7f2a96dffb833a99dc91a621ab02136416bd8165a"
   }
  }
 },
 "nbformat": 4,
 "nbformat_minor": 5
}
